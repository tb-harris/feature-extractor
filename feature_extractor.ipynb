{
  "cells": [
    {
      "cell_type": "markdown",
      "metadata": {
        "id": "3RQV0plEF3ei"
      },
      "source": [
        "# Feature Extractor\n",
        "We can use the feature extractor to get morphological data for features of interest. You can find the collection of features in the Allen Institute dataset [here](https://neuron-morphology.readthedocs.io/en/latest/autoapi/neuron_morphology/features/index.html).\n",
        "\n",
        "You can find the steps used to load the .swf files used in this notebook [here](https://github.com/tb-harris/neuroscience-2024/blob/main/tools/Feature_Extractor_and_Reconstructions_Setup.ipynb).\n",
        "\n",
        "This is based on code adapted from Curt and the Allen Institute."
      ]
    },
    {
      "cell_type": "markdown",
      "metadata": {
        "id": "iu32N7XBl4hH"
      },
      "source": [
        "## Setup"
      ]
    },
    {
      "cell_type": "code",
      "execution_count": 4,
      "metadata": {},
      "outputs": [],
      "source": [
        "from neuron_morphology.swc_io import morphology_from_swc\n",
        "from neuron_morphology.feature_extractor.data import Data\n",
        "from neuron_morphology.feature_extractor.feature_extractor import FeatureExtractor\n",
        "from neuron_morphology.features.default_features import default_features\n",
        "from neuron_morphology.constants import (\n",
        "    SOMA, AXON, BASAL_DENDRITE, APICAL_DENDRITE\n",
        ")\n",
        "import numpy as np\n",
        "import neuron_morphology.feature_extractor.feature_writer as fw\n",
        "\n",
        "import pandas as pd"
      ]
    },
    {
      "cell_type": "markdown",
      "metadata": {},
      "source": [
        "Should be 1.23:"
      ]
    },
    {
      "cell_type": "code",
      "execution_count": 6,
      "metadata": {},
      "outputs": [
        {
          "data": {
            "text/plain": [
              "'1.23.0'"
            ]
          },
          "execution_count": 6,
          "metadata": {},
          "output_type": "execute_result"
        }
      ],
      "source": [
        "np.__version__"
      ]
    },
    {
      "cell_type": "code",
      "execution_count": 5,
      "metadata": {},
      "outputs": [],
      "source": [
        "manifest = pd.read_csv('2021-09-13_mouse_file_manifest.csv')\n",
        "metadata = pd.read_csv('20200711_patchseq_metadata_mouse.csv', index_col=\"cell_specimen_id\")"
      ]
    },
    {
      "cell_type": "code",
      "execution_count": 7,
      "metadata": {},
      "outputs": [],
      "source": [
        "reconstructions_manifest = manifest.loc[\n",
        "    (manifest[\"file_type\"] == \"transformed_swc\")\n",
        "]\n"
      ]
    },
    {
      "cell_type": "code",
      "execution_count": 8,
      "metadata": {},
      "outputs": [
        {
          "data": {
            "text/plain": [
              "2        ftp://download.brainlib.org:8811/biccn/zeng/ps...\n",
              "9        ftp://download.brainlib.org:8811/biccn/zeng/ps...\n",
              "16       ftp://download.brainlib.org:8811/biccn/zeng/ps...\n",
              "23       ftp://download.brainlib.org:8811/biccn/zeng/ps...\n",
              "30       ftp://download.brainlib.org:8811/biccn/zeng/ps...\n",
              "                               ...                        \n",
              "19314    ftp://download.brainlib.org:8811/biccn/zeng/ps...\n",
              "19361    ftp://download.brainlib.org:8811/biccn/zeng/ps...\n",
              "19368    ftp://download.brainlib.org:8811/biccn/zeng/ps...\n",
              "19375    ftp://download.brainlib.org:8811/biccn/zeng/ps...\n",
              "19410    ftp://download.brainlib.org:8811/biccn/zeng/ps...\n",
              "Name: archive_uri, Length: 573, dtype: object"
            ]
          },
          "execution_count": 8,
          "metadata": {},
          "output_type": "execute_result"
        }
      ],
      "source": [
        "reconstructions_manifest['archive_uri']"
      ]
    },
    {
      "cell_type": "markdown",
      "metadata": {},
      "source": [
        "## Step 0 - Download morphologies"
      ]
    },
    {
      "cell_type": "markdown",
      "metadata": {},
      "source": [
        "If you don't have the morphologies downloaded yet, uncomment and run the code below to download them to a folder called `reconstructions/`:"
      ]
    },
    {
      "cell_type": "code",
      "execution_count": 9,
      "metadata": {},
      "outputs": [
        {
          "data": {
            "text/plain": [
              "'\\nimport urllib.request\\n\\nfor index, swc_urls in reconstructions_manifest.iterrows():\\n    if not os.path.exists(\"./reconstructions/\"):\\n        os.makedirs(\"./reconstructions/\")\\n    if not os.path.exists(\"./reconstructions/\" + swc_urls.loc[\"file_name\"]):\\n        print(\"Downloading \" + swc_urls.loc[\"file_name\"])\\n        urllib.request.urlretrieve(swc_urls.loc[\"archive_uri\"], \"./reconstructions/\" + swc_urls.loc[\"file_name\"])\\n\\n'"
            ]
          },
          "execution_count": 9,
          "metadata": {},
          "output_type": "execute_result"
        }
      ],
      "source": [
        "'''\n",
        "import urllib.request\n",
        "\n",
        "for index, swc_urls in reconstructions_manifest.iterrows():\n",
        "    if not os.path.exists(\"./reconstructions/\"):\n",
        "        os.makedirs(\"./reconstructions/\")\n",
        "    if not os.path.exists(\"./reconstructions/\" + swc_urls.loc[\"file_name\"]):\n",
        "        print(\"Downloading \" + swc_urls.loc[\"file_name\"])\n",
        "        urllib.request.urlretrieve(swc_urls.loc[\"archive_uri\"], \"./reconstructions/\" + swc_urls.loc[\"file_name\"])\n",
        "\n",
        "'''"
      ]
    },
    {
      "cell_type": "markdown",
      "metadata": {},
      "source": [
        "## Step 1: Load morphologies"
      ]
    },
    {
      "cell_type": "markdown",
      "metadata": {
        "id": "XzmlOXK9NkyU"
      },
      "source": [
        "Get the morphology of each cell (takes some time). If you want to focus only on a specific group of cells, subset here."
      ]
    },
    {
      "cell_type": "code",
      "execution_count": null,
      "metadata": {
        "id": "npqOGrXwzUqN"
      },
      "outputs": [],
      "source": [
        "# Apply the morphology_from_swc() function to each file\n",
        "morphologies = reconstructions_manifest[\"file_name\"].apply(lambda name : morphology_from_swc(\"reconstructions/\" + name))\n",
        "morphologies.index = reconstructions_manifest[\"cell_specimen_id\"].astype(int)"
      ]
    },
    {
      "cell_type": "code",
      "execution_count": null,
      "metadata": {},
      "outputs": [],
      "source": []
    },
    {
      "cell_type": "markdown",
      "metadata": {
        "id": "5ju8JXNeFOsO"
      },
      "source": [
        "## Step 2: Import and Register our features\n",
        "Find our relevant feature(s) from the [documentation](https://neuron-morphology.readthedocs.io/en/latest/autoapi/neuron_morphology/features/index.html) or by looking at directly at the [code](https://github.com/AllenInstitute/neuron_morphology/tree/dev/neuron_morphology/features).\n",
        "\n",
        "Import the relevant features, and then put them together in a list to register with the FeatureExtractor.\n",
        "\n",
        "The below example is adapted from the [default features](https://github.com/AllenInstitute/neuron_morphology/blob/dev/neuron_morphology/features/default_features.py) set, and will take a substantial amount of time to run -- I would recommend using much fewer features.\n",
        "\n",
        "`specialize()` and `nested_specialize()` are used to specify specializations:\n",
        " * `NEURITE_SPECIALIZATIONS` - AxonSpec, ApicalDendriteSpec, BasalDendriteSpec, DendriteSpec\n",
        " * `COORD_TYPE_SPECIALIZATIONS` - x, y, z coordinates (x and y are generally more useful!)"
      ]
    },
    {
      "cell_type": "code",
      "execution_count": null,
      "metadata": {
        "colab": {
          "base_uri": "https://localhost:8080/"
        },
        "id": "fE70A65dFJoh",
        "outputId": "c38b99f2-e0c6-41e8-90d3-472c62b7ac2e"
      },
      "outputs": [
        {
          "data": {
            "text/plain": [
              "<neuron_morphology.feature_extractor.feature_extractor.FeatureExtractor at 0x44b1ec280>"
            ]
          },
          "execution_count": 12,
          "metadata": {},
          "output_type": "execute_result"
        }
      ],
      "source": [
        "# Features - Change the features of interest here\n",
        "from neuron_morphology.features.dimension import dimension\n",
        "from neuron_morphology.features.intrinsic import (\n",
        "    num_branches, num_tips, num_nodes, mean_fragmentation,\n",
        "    max_branch_order\n",
        ")\n",
        "from neuron_morphology.features.branching.bifurcations import (\n",
        "    num_outer_bifurcations, mean_bifurcation_angle_local, mean_bifurcation_angle_remote\n",
        ")\n",
        "from neuron_morphology.features.size import (\n",
        "    total_length, total_surface_area, total_volume, mean_diameter,\n",
        "    mean_parent_daughter_ratio, max_euclidean_distance\n",
        ")\n",
        "from neuron_morphology.features.path import (\n",
        "    max_path_distance, early_branch_path, mean_contraction\n",
        ")\n",
        "from neuron_morphology.features.statistics.overlap import overlap\n",
        "from neuron_morphology.features.statistics.moments import moments\n",
        "\n",
        "from neuron_morphology.features.layer.layer_histogram import (\n",
        "    earth_movers_distance, normalized_depth_histogram)\n",
        "\n",
        "# ----------------------------\n",
        "\n",
        "# Other imports\n",
        "from neuron_morphology.constants import (\n",
        "    AXON, BASAL_DENDRITE, APICAL_DENDRITE\n",
        ")\n",
        "\n",
        "# Feature Extractor, marks, and specializations\n",
        "from neuron_morphology.feature_extractor.data import Data\n",
        "from neuron_morphology.feature_extractor.marked_feature import (\n",
        "    marked, specialize, nested_specialize\n",
        ")\n",
        "from neuron_morphology.feature_extractor.mark import (\n",
        "    RequiresLayerAnnotations, Intrinsic, Geometric, AllNeuriteTypes,\n",
        "    RequiresSoma)\n",
        "from neuron_morphology.feature_extractor.feature_specialization import (\n",
        "    NEURITE_SPECIALIZATIONS, NEURITE_COMPARISON_SPECIALIZATIONS,\n",
        "    AxonSpec, ApicalDendriteSpec, BasalDendriteSpec, DendriteSpec,\n",
        "    AxonCompareSpec, ApicalDendriteCompareSpec,\n",
        "    BasalDendriteCompareSpec, DendriteCompareSpec, AllNeuriteSpec\n",
        ")\n",
        "from neuron_morphology.features.statistics.coordinates import COORD_TYPE_SPECIALIZATIONS\n",
        "# ----------------------------\n",
        "\n",
        "\n",
        "# Adopted from default features; mean_fragmentation removed due to div by 0 errors\n",
        "features_to_calculate = [\n",
        "    nested_specialize(\n",
        "            dimension,\n",
        "            [COORD_TYPE_SPECIALIZATIONS, NEURITE_SPECIALIZATIONS]),\n",
        "    specialize(num_nodes, NEURITE_SPECIALIZATIONS),\n",
        "    specialize(num_branches, NEURITE_SPECIALIZATIONS),\n",
        "    specialize(num_tips, NEURITE_SPECIALIZATIONS),\n",
        "    specialize(max_branch_order, NEURITE_SPECIALIZATIONS),\n",
        "    specialize(num_outer_bifurcations, NEURITE_SPECIALIZATIONS),\n",
        "    specialize(mean_bifurcation_angle_local, NEURITE_SPECIALIZATIONS),\n",
        "    specialize(mean_bifurcation_angle_remote, NEURITE_SPECIALIZATIONS),\n",
        "    specialize(total_length, NEURITE_SPECIALIZATIONS),\n",
        "    specialize(total_surface_area, NEURITE_SPECIALIZATIONS),\n",
        "    specialize(total_volume, NEURITE_SPECIALIZATIONS),\n",
        "    specialize(mean_diameter, NEURITE_SPECIALIZATIONS),\n",
        "    specialize(mean_parent_daughter_ratio, NEURITE_SPECIALIZATIONS),\n",
        "    specialize(max_euclidean_distance, NEURITE_SPECIALIZATIONS),\n",
        "    max_path_distance,\n",
        "    early_branch_path,\n",
        "    mean_contraction,\n",
        "    nested_specialize(\n",
        "            overlap,\n",
        "            [{AxonSpec, ApicalDendriteSpec, BasalDendriteSpec, DendriteSpec},\n",
        "             {AxonCompareSpec, ApicalDendriteCompareSpec,\n",
        "              BasalDendriteCompareSpec,\n",
        "              DendriteCompareSpec}]),\n",
        "    nested_specialize(\n",
        "            moments,\n",
        "            [COORD_TYPE_SPECIALIZATIONS, NEURITE_SPECIALIZATIONS]),\n",
        "    specialize(normalized_depth_histogram, NEURITE_SPECIALIZATIONS),\n",
        "    nested_specialize(\n",
        "        earth_movers_distance, \n",
        "        [\n",
        "            {AxonSpec, ApicalDendriteSpec, BasalDendriteSpec, DendriteSpec},\n",
        "            {\n",
        "                AxonCompareSpec, ApicalDendriteCompareSpec,\n",
        "                BasalDendriteCompareSpec,\n",
        "                DendriteCompareSpec\n",
        "            },\n",
        "        ]\n",
        "    )\n",
        "\n",
        "]\n",
        "\n",
        "\n",
        "# Create a new feature extractor\n",
        "fe = FeatureExtractor()\n",
        "# Register our target features\n",
        "fe.register_features(features_to_calculate)"
      ]
    },
    {
      "cell_type": "markdown",
      "metadata": {
        "id": "ZU2YBfvTHX-x"
      },
      "source": [
        "## Step 3: Extract features"
      ]
    },
    {
      "cell_type": "markdown",
      "metadata": {
        "id": "iZT4m75ErXCY"
      },
      "source": [
        "Function to extract features for a single neuron:"
      ]
    },
    {
      "cell_type": "code",
      "execution_count": 200,
      "metadata": {
        "id": "b-jwSEfAHaDs"
      },
      "outputs": [],
      "source": [
        "from typing import AbstractSet\n",
        "from neuron_morphology.feature_extractor.utilities import unnest\n",
        "from neuron_morphology.feature_extractor.data import Data\n",
        "\n",
        "# Extract the features from a single neuron morphology object\n",
        "def extract_features(neuron_morphology):\n",
        "  data = Data(neuron_morphology)\n",
        "  try: \n",
        "      feature_extraction_run = fe.extract(data, required_marks=frozenset())\n",
        "      results = feature_extraction_run.results\n",
        "\n",
        "  except Exception as e:\n",
        "      print(f\"Error occurred while extracting features: {e}\")\n",
        "      return dict()\n",
        "\n",
        "  return unnest(results)"
      ]
    },
    {
      "cell_type": "markdown",
      "metadata": {
        "id": "Onye8NMEXeiO"
      },
      "source": [
        "Create a data frame by running the *extract_features()* function on each neuron morphology (takes some time). Start by setting `test = True` to only calculate features for the first 3 neurons."
      ]
    },
    {
      "cell_type": "code",
      "execution_count": 221,
      "metadata": {},
      "outputs": [],
      "source": [
        "test = False"
      ]
    },
    {
      "cell_type": "code",
      "execution_count": null,
      "metadata": {
        "id": "oRhIxF4MKeui"
      },
      "outputs": [],
      "source": [
        "morphologies_target = morphologies\n",
        "\n",
        "if test:\n",
        "    morphologies_target = morphologies_target[:3]\n",
        "\n",
        "\n",
        "features = pd.DataFrame(\n",
        "    (extract_features(neuron) for neuron in morphologies_target.values),\n",
        "    index=morphologies_target.index\n",
        ")\n"
      ]
    },
    {
      "cell_type": "markdown",
      "metadata": {
        "id": "6l7sDMTne-ty"
      },
      "source": [
        "Double check that your features dataframe has values for each of your target features across all the cells:"
      ]
    },
    {
      "cell_type": "markdown",
      "metadata": {
        "id": "l63D_Pasvf35"
      },
      "source": [
        "## Step 4: Save features"
      ]
    },
    {
      "cell_type": "code",
      "execution_count": null,
      "metadata": {
        "id": "yL7uRvq1J091"
      },
      "outputs": [],
      "source": [
        "features.to_csv(\n",
        "    'features.csv', # File name\n",
        "    index_label='cell_specimen_id'\n",
        ")"
      ]
    }
  ],
  "metadata": {
    "colab": {
      "provenance": [],
      "toc_visible": true
    },
    "kernelspec": {
      "display_name": "morph",
      "language": "python",
      "name": "python3"
    },
    "language_info": {
      "codemirror_mode": {
        "name": "ipython",
        "version": 3
      },
      "file_extension": ".py",
      "mimetype": "text/x-python",
      "name": "python",
      "nbconvert_exporter": "python",
      "pygments_lexer": "ipython3",
      "version": "3.9.23"
    }
  },
  "nbformat": 4,
  "nbformat_minor": 0
}
